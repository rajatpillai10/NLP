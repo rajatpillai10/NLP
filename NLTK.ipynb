{
 "cells": [
  {
   "cell_type": "code",
   "execution_count": 12,
   "metadata": {},
   "outputs": [],
   "source": [
    "## NLTK-  Natural Language Toolkit\n",
    "import nltk"
   ]
  },
  {
   "cell_type": "code",
   "execution_count": 13,
   "metadata": {},
   "outputs": [],
   "source": [
    "from nltk.corpus import brown"
   ]
  },
  {
   "cell_type": "code",
   "execution_count": 14,
   "metadata": {},
   "outputs": [
    {
     "name": "stdout",
     "output_type": "stream",
     "text": [
      "['adventure', 'belles_lettres', 'editorial', 'fiction', 'government', 'hobbies', 'humor', 'learned', 'lore', 'mystery', 'news', 'religion', 'reviews', 'romance', 'science_fiction']\n",
      "15\n"
     ]
    }
   ],
   "source": [
    "print(brown.categories())\n",
    "print(len(brown.categories()))"
   ]
  },
  {
   "cell_type": "code",
   "execution_count": 15,
   "metadata": {},
   "outputs": [
    {
     "data": {
      "text/plain": [
       "'Scotty did not go back to school .'"
      ]
     },
     "execution_count": 15,
     "metadata": {},
     "output_type": "execute_result"
    }
   ],
   "source": [
    "data = brown.sents(categories='fiction')\n",
    "' '.join(data[1])"
   ]
  },
  {
   "cell_type": "markdown",
   "metadata": {},
   "source": [
    "#### Bag of Words Pipeline¶\n",
    "* Get the Data/Corpus\n",
    "* Tokenisation, Stopward Removal\n",
    "* Stemming\n",
    "* Building a Vocab\n",
    "* Vectorization\n",
    "* Classification"
   ]
  },
  {
   "cell_type": "code",
   "execution_count": 19,
   "metadata": {},
   "outputs": [],
   "source": [
    "\n",
    "document = \"\"\"Neuralink Corporation is an American neurotechnology company founded by Elon Musk and others,developing implantable brain–machine interfaces. The company's headquarters are in San Francisco; it was started in 2016 and was first publicly reported in March 2017.\"\"\"\n",
    "\n",
    "sentence = \"Neuralink- Developing ultra high bandwidth brain-machine interfaces to connect humans and computers.\""
   ]
  },
  {
   "cell_type": "code",
   "execution_count": 20,
   "metadata": {},
   "outputs": [],
   "source": [
    "from nltk.tokenize import sent_tokenize,word_tokenize"
   ]
  },
  {
   "cell_type": "code",
   "execution_count": 21,
   "metadata": {},
   "outputs": [
    {
     "name": "stdout",
     "output_type": "stream",
     "text": [
      "['Neuralink Corporation is an American neurotechnology company founded by Elon Musk and others,developing implantable brain–machine interfaces.', \"The company's headquarters are in San Francisco; it was started in 2016 and was first publicly reported in March 2017.\"]\n",
      "2\n"
     ]
    }
   ],
   "source": [
    "sents = sent_tokenize(document)\n",
    "print(sents)\n",
    "print(len(sents))"
   ]
  },
  {
   "cell_type": "code",
   "execution_count": 22,
   "metadata": {},
   "outputs": [
    {
     "data": {
      "text/plain": [
       "'Neuralink Corporation is an American neurotechnology company founded by Elon Musk and others,developing implantable brain–machine interfaces.'"
      ]
     },
     "execution_count": 22,
     "metadata": {},
     "output_type": "execute_result"
    }
   ],
   "source": [
    "sents[0]"
   ]
  },
  {
   "cell_type": "code",
   "execution_count": 23,
   "metadata": {},
   "outputs": [
    {
     "data": {
      "text/plain": [
       "['Neuralink-',\n",
       " 'Developing',\n",
       " 'ultra',\n",
       " 'high',\n",
       " 'bandwidth',\n",
       " 'brain-machine',\n",
       " 'interfaces',\n",
       " 'to',\n",
       " 'connect',\n",
       " 'humans',\n",
       " 'and',\n",
       " 'computers.']"
      ]
     },
     "execution_count": 23,
     "metadata": {},
     "output_type": "execute_result"
    }
   ],
   "source": [
    "sentence.split()"
   ]
  },
  {
   "cell_type": "code",
   "execution_count": 25,
   "metadata": {},
   "outputs": [
    {
     "data": {
      "text/plain": [
       "['Neuralink-',\n",
       " 'Developing',\n",
       " 'ultra',\n",
       " 'high',\n",
       " 'bandwidth',\n",
       " 'brain-machine',\n",
       " 'interfaces',\n",
       " 'to',\n",
       " 'connect',\n",
       " 'humans',\n",
       " 'and',\n",
       " 'computers',\n",
       " '.']"
      ]
     },
     "execution_count": 25,
     "metadata": {},
     "output_type": "execute_result"
    }
   ],
   "source": [
    " word_tokenize(sentence)"
   ]
  },
  {
   "cell_type": "code",
   "execution_count": 26,
   "metadata": {},
   "outputs": [],
   "source": [
    "words = word_tokenize(sentence)"
   ]
  },
  {
   "cell_type": "markdown",
   "metadata": {},
   "source": [
    "### STOPWORDS"
   ]
  },
  {
   "cell_type": "code",
   "execution_count": 27,
   "metadata": {},
   "outputs": [],
   "source": [
    "from nltk.corpus import stopwords\n",
    "sw = set(stopwords.words('english'))"
   ]
  },
  {
   "cell_type": "code",
   "execution_count": 28,
   "metadata": {},
   "outputs": [
    {
     "name": "stdout",
     "output_type": "stream",
     "text": [
      "{'having', 'own', \"needn't\", 'in', 'than', 'wasn', 'nor', 'did', 'these', 'your', 'myself', 'herself', 'needn', 'should', 'how', \"aren't\", 'which', 'isn', 'her', 'this', 'over', 'have', 'doing', 'down', 'who', 'so', 'shouldn', 'if', \"hasn't\", 'any', 'other', 'under', 'wouldn', 'not', 'both', 'our', 'shan', \"you'll\", 'doesn', 'him', 'don', 'haven', \"weren't\", 'there', 'hadn', 'through', 'himself', 'off', \"shan't\", 'such', 'i', 'at', \"you're\", 'o', 'an', \"didn't\", 'me', 'does', 'below', 'its', 'no', 'by', 'mightn', 'weren', 'hasn', 'before', \"shouldn't\", 'as', \"it's\", 'hers', 'it', 'mustn', \"wouldn't\", \"she's\", 'about', 'between', \"hadn't\", 'was', 'yourself', 'now', \"don't\", 'my', 'until', 'after', 'with', 'during', 'the', 'm', \"that'll\", \"couldn't\", 'some', 'd', 'will', 'yours', 'had', 'you', \"you've\", 'on', 'because', 'then', 'were', 'out', 'each', \"doesn't\", 'more', 'themselves', 'only', \"you'd\", 'can', 'whom', 'ma', \"won't\", 'here', 'again', 'aren', 'they', \"mustn't\", 'against', 'didn', 'theirs', 'he', 'are', 'once', 'very', 'y', 'his', 'a', 'above', 'too', 'when', 'that', 'being', 'up', 'ours', 'and', 'll', \"haven't\", 'while', 'ain', 't', \"isn't\", 'won', 'their', 'but', 'where', 've', 'those', 'is', 're', 'same', 'from', 'all', 'most', 'or', 'to', 'she', 'for', \"wasn't\", 'am', \"should've\", 'further', 'be', 'yourselves', 'couldn', 'of', 'them', 'itself', 'has', 'do', 'been', 'into', \"mightn't\", 'we', 'ourselves', 'just', 'why', 'few', 'what', 's'}\n"
     ]
    }
   ],
   "source": [
    "print(sw)"
   ]
  },
  {
   "cell_type": "code",
   "execution_count": 29,
   "metadata": {},
   "outputs": [],
   "source": [
    "def remove_stopwords(text,stopwords):\n",
    "    useful_words = [w for w in text if w not in stopwords]\n",
    "    return useful_words"
   ]
  },
  {
   "cell_type": "code",
   "execution_count": 30,
   "metadata": {},
   "outputs": [
    {
     "name": "stdout",
     "output_type": "stream",
     "text": [
      "['This', 'good', 'movie']\n"
     ]
    }
   ],
   "source": [
    "text = \"This is not a good movie\".split()\n",
    "useful_text = remove_stopwords(text,sw)\n",
    "print(useful_text)"
   ]
  },
  {
   "cell_type": "markdown",
   "metadata": {},
   "source": [
    "##### Tokenization using Regular Expression"
   ]
  },
  {
   "cell_type": "code",
   "execution_count": 32,
   "metadata": {},
   "outputs": [],
   "source": [
    "from nltk.tokenize import RegexpTokenizer"
   ]
  },
  {
   "cell_type": "code",
   "execution_count": 33,
   "metadata": {},
   "outputs": [],
   "source": [
    "tokenizer = RegexpTokenizer('[a-zA-Z@.]+')\n",
    "useful_text = tokenizer.tokenize(sentence)"
   ]
  },
  {
   "cell_type": "code",
   "execution_count": 34,
   "metadata": {},
   "outputs": [
    {
     "data": {
      "text/plain": [
       "['Neuralink',\n",
       " 'Developing',\n",
       " 'ultra',\n",
       " 'high',\n",
       " 'bandwidth',\n",
       " 'brain',\n",
       " 'machine',\n",
       " 'interfaces',\n",
       " 'to',\n",
       " 'connect',\n",
       " 'humans',\n",
       " 'and',\n",
       " 'computers.']"
      ]
     },
     "execution_count": 34,
     "metadata": {},
     "output_type": "execute_result"
    }
   ],
   "source": [
    "useful_text"
   ]
  },
  {
   "cell_type": "markdown",
   "metadata": {},
   "source": [
    "#### STEMMING"
   ]
  },
  {
   "cell_type": "code",
   "execution_count": 37,
   "metadata": {},
   "outputs": [],
   "source": [
    "from nltk.stem.snowball import SnowballStemmer, PorterStemmer\n",
    "from nltk.stem.lancaster import LancasterStemmer"
   ]
  },
  {
   "cell_type": "code",
   "execution_count": 38,
   "metadata": {},
   "outputs": [],
   "source": [
    "ps = PorterStemmer()"
   ]
  },
  {
   "cell_type": "code",
   "execution_count": 39,
   "metadata": {},
   "outputs": [
    {
     "data": {
      "text/plain": [
       "'jump'"
      ]
     },
     "execution_count": 39,
     "metadata": {},
     "output_type": "execute_result"
    }
   ],
   "source": [
    "ps.stem(\"jumping\")"
   ]
  },
  {
   "cell_type": "code",
   "execution_count": 40,
   "metadata": {},
   "outputs": [
    {
     "data": {
      "text/plain": [
       "'drive'"
      ]
     },
     "execution_count": 40,
     "metadata": {},
     "output_type": "execute_result"
    }
   ],
   "source": [
    "ps.stem(\"driving\")"
   ]
  },
  {
   "cell_type": "code",
   "execution_count": 41,
   "metadata": {},
   "outputs": [],
   "source": [
    "ss = SnowballStemmer('english')"
   ]
  },
  {
   "cell_type": "code",
   "execution_count": 43,
   "metadata": {},
   "outputs": [
    {
     "data": {
      "text/plain": [
       "'jump'"
      ]
     },
     "execution_count": 43,
     "metadata": {},
     "output_type": "execute_result"
    }
   ],
   "source": [
    "ss.stem('jumping')"
   ]
  },
  {
   "cell_type": "code",
   "execution_count": 44,
   "metadata": {},
   "outputs": [
    {
     "data": {
      "text/plain": [
       "'drive'"
      ]
     },
     "execution_count": 44,
     "metadata": {},
     "output_type": "execute_result"
    }
   ],
   "source": [
    "ss.stem(\"driving\")"
   ]
  },
  {
   "cell_type": "code",
   "execution_count": 48,
   "metadata": {},
   "outputs": [],
   "source": [
    "ss = SnowballStemmer('french')"
   ]
  },
  {
   "cell_type": "code",
   "execution_count": 49,
   "metadata": {},
   "outputs": [
    {
     "data": {
      "text/plain": [
       "'saut'"
      ]
     },
     "execution_count": 49,
     "metadata": {},
     "output_type": "execute_result"
    }
   ],
   "source": [
    "ss.stem(\"sauter\")"
   ]
  },
  {
   "cell_type": "code",
   "execution_count": 51,
   "metadata": {},
   "outputs": [
    {
     "data": {
      "text/plain": [
       "'dans'"
      ]
     },
     "execution_count": 51,
     "metadata": {},
     "output_type": "execute_result"
    }
   ],
   "source": [
    "ss.stem(\"dansant\")"
   ]
  },
  {
   "cell_type": "code",
   "execution_count": 52,
   "metadata": {},
   "outputs": [
    {
     "data": {
      "text/plain": [
       "'jumping'"
      ]
     },
     "execution_count": 52,
     "metadata": {},
     "output_type": "execute_result"
    }
   ],
   "source": [
    "## Lemmatization\n",
    "from nltk.stem import WordNetLemmatizer\n",
    "wn = WordNetLemmatizer()\n",
    "wn.lemmatize('jumping')"
   ]
  },
  {
   "cell_type": "code",
   "execution_count": null,
   "metadata": {},
   "outputs": [],
   "source": []
  }
 ],
 "metadata": {
  "kernelspec": {
   "display_name": "Python 3",
   "language": "python",
   "name": "python3"
  },
  "language_info": {
   "codemirror_mode": {
    "name": "ipython",
    "version": 3
   },
   "file_extension": ".py",
   "mimetype": "text/x-python",
   "name": "python",
   "nbconvert_exporter": "python",
   "pygments_lexer": "ipython3",
   "version": "3.8.5"
  }
 },
 "nbformat": 4,
 "nbformat_minor": 4
}
